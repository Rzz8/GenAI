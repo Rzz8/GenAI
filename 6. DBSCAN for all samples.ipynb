{
 "cells": [
  {
   "cell_type": "code",
   "execution_count": null,
   "id": "5b43398f-9025-43c9-bd41-d249cde4a4dd",
   "metadata": {},
   "outputs": [
    {
     "name": "stdout",
     "output_type": "stream",
     "text": [
      "Reduced dimensionality to 10 dimensions.\n",
      "Estimated number of clusters: 49782\n",
      "Estimated number of noise points: 786015\n"
     ]
    }
   ],
   "source": [
    "import pandas as pd\n",
    "import numpy as np\n",
    "from sklearn.preprocessing import StandardScaler\n",
    "from sklearn.decomposition import PCA\n",
    "from sklearn.metrics import silhouette_score, davies_bouldin_score\n",
    "import hdbscan\n",
    "\n",
    "# Load and preprocess the data\n",
    "df = pd.read_csv('combined_output.csv')\n",
    "df2 = df.drop(' Label', axis=1)\n",
    "df2 = df2.dropna()\n",
    "\n",
    "# Replace infinite values with NaN and drop rows with NaNs\n",
    "df2.replace([np.inf, -np.inf], np.nan, inplace=True)\n",
    "df2_cleaned = df2.dropna()\n",
    "\n",
    "# Select only numeric columns, keeping 'Label Num' for later comparison\n",
    "numeric_df = df2_cleaned.select_dtypes(include=[np.number])\n",
    "\n",
    "# Extract the 'Label Num' for the ground truth comparison later\n",
    "labels = numeric_df['Label Num']\n",
    "\n",
    "# Drop 'Label Num' column from the features for clustering\n",
    "numeric_df = numeric_df.drop('Label Num', axis=1)\n",
    "\n",
    "# Convert to NumPy array and scale the data\n",
    "X = numeric_df.to_numpy()\n",
    "scaler = StandardScaler()\n",
    "X_scaled = scaler.fit_transform(X)\n",
    "\n",
    "# Optional: Apply PCA to reduce dimensionality\n",
    "pca = PCA(n_components=10)  # Adjust 'n_components' based on the dataset size\n",
    "X_reduced = pca.fit_transform(X_scaled)\n",
    "print(f\"Reduced dimensionality to {X_reduced.shape[1]} dimensions.\")\n",
    "\n",
    "# Apply HDBSCAN clustering\n",
    "clusterer = hdbscan.HDBSCAN(\n",
    "    min_cluster_size=10,   # Minimum size of clusters\n",
    "    metric='euclidean',    # Distance metric\n",
    "    cluster_selection_method='eom'  # Excess of mass (default)\n",
    ")\n",
    "cluster_labels = clusterer.fit_predict(X_reduced)\n",
    "\n",
    "# Print basic clustering results\n",
    "n_clusters = len(set(cluster_labels)) - (1 if -1 in cluster_labels else 0)\n",
    "n_noise = list(cluster_labels).count(-1)\n",
    "print(f\"Estimated number of clusters: {n_clusters}\")\n",
    "print(f\"Estimated number of noise points: {n_noise}\")\n",
    "\n",
    "# Evaluate clustering performance\n",
    "if len(set(cluster_labels)) > 1:  # Silhouette score requires at least 2 clusters\n",
    "    silhouette_avg = silhouette_score(X_reduced, cluster_labels)\n",
    "    print(f\"Silhouette Score: {silhouette_avg}\")\n",
    "\n",
    "if n_clusters > 1:  # Davies-Bouldin score only makes sense with at least 2 clusters\n",
    "    db_score = davies_bouldin_score(X_reduced[cluster_labels != -1], cluster_labels[cluster_labels != -1])\n",
    "    print(f\"Davies-Bouldin Score (non-noise): {db_score}\")\n",
    "\n",
    "# Create a DataFrame to examine cluster distribution\n",
    "data_with_predictions = pd.DataFrame({\n",
    "    'Cluster': cluster_labels,  # Predicted clusters\n",
    "    'Actual': labels.reset_index(drop=True)  # Original labels\n",
    "})\n",
    "\n",
    "# Group by cluster prediction and actual label, then count occurrences\n",
    "distribution = pd.crosstab(data_with_predictions['Cluster'], data_with_predictions['Actual'])\n",
    "\n",
    "# Print the distribution matrix\n",
    "print(distribution)\n"
   ]
  },
  {
   "cell_type": "code",
   "execution_count": null,
   "id": "34094268-92dc-43f6-b185-e3c17f78eb7d",
   "metadata": {},
   "outputs": [],
   "source": []
  }
 ],
 "metadata": {
  "kernelspec": {
   "display_name": "Python 3 (ipykernel)",
   "language": "python",
   "name": "python3"
  },
  "language_info": {
   "codemirror_mode": {
    "name": "ipython",
    "version": 3
   },
   "file_extension": ".py",
   "mimetype": "text/x-python",
   "name": "python",
   "nbconvert_exporter": "python",
   "pygments_lexer": "ipython3",
   "version": "3.8.19"
  }
 },
 "nbformat": 4,
 "nbformat_minor": 5
}
