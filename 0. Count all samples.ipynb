{
 "cells": [
  {
   "cell_type": "code",
   "execution_count": 3,
   "id": "11cd77db-0fec-477c-965e-3fe59cc021cb",
   "metadata": {},
   "outputs": [
    {
     "name": "stdout",
     "output_type": "stream",
     "text": [
      "Total number of samples: 2830743\n",
      "Number of samples for each Label Num:\n",
      "Label Num\n",
      "0    2273097\n",
      "1     557646\n",
      "Name: count, dtype: int64\n",
      "Ratio of samples with Label Num = 1 to total samples: 0.19699633629757277\n"
     ]
    }
   ],
   "source": [
    "import pandas as pd\n",
    "\n",
    "# Load the CSV file\n",
    "df = pd.read_csv('combined_output.csv')\n",
    "\n",
    "# Count the total number of samples\n",
    "total_samples = df.shape[0]\n",
    "\n",
    "# Count the number of samples for each Label Num\n",
    "label_counts = df['Label Num'].value_counts()\n",
    "\n",
    "# Print the results\n",
    "print(\"Total number of samples:\", total_samples)\n",
    "print(\"Number of samples for each Label Num:\")\n",
    "print(label_counts)\n",
    "\n",
    "# Print the ratio of Label Num = 1 to total samples\n",
    "if 1 in label_counts:\n",
    "    ratio_label_1 = label_counts[1] / total_samples\n",
    "    print(\"Ratio of samples with Label Num = 1 to total samples:\", ratio_label_1)\n",
    "else:\n",
    "    print(\"No samples with Label Num = 1 found.\")"
   ]
  }
 ],
 "metadata": {
  "kernelspec": {
   "display_name": "Python 3 (ipykernel)",
   "language": "python",
   "name": "python3"
  },
  "language_info": {
   "codemirror_mode": {
    "name": "ipython",
    "version": 3
   },
   "file_extension": ".py",
   "mimetype": "text/x-python",
   "name": "python",
   "nbconvert_exporter": "python",
   "pygments_lexer": "ipython3",
   "version": "3.8.19"
  }
 },
 "nbformat": 4,
 "nbformat_minor": 5
}
